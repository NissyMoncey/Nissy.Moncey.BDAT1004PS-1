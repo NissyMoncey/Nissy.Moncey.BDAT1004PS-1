{
 "cells": [
  {
   "cell_type": "markdown",
   "id": "a1c3b24b",
   "metadata": {},
   "source": [
    "# Question 6"
   ]
  },
  {
   "cell_type": "markdown",
   "id": "eac10878",
   "metadata": {},
   "source": [
    "## You can turn a word into pig-Latin using the following two rules (simplified): \n",
    "# • If the word starts with a consonant, move that letter to the end and append 'ay'. For example, 'happy' becomes 'appyhay' and 'pencil' becomes 'encilpay'.\n",
    "# • If the word starts with a vowel, simply append 'way' to the end of the word. For example, 'enter' becomes 'enterway' and 'other' becomes 'otherway' . For our purposes, there are 5 vowels: a, e, i, o, u (so we count y as a consonant).\n",
    "# Write a function pig() that takes a word (i.e., a string) as input and returns its pig-Latin form. Your function should still work if the input word contains upper case characters. Your output should always be lower case however."
   ]
  },
  {
   "cell_type": "code",
   "execution_count": 1,
   "id": "7c5b31b2",
   "metadata": {},
   "outputs": [
    {
     "name": "stdout",
     "output_type": "stream",
     "text": [
      "Enter the word of your choice: happy\n",
      "Pig_Latin form of the word: happy is: appyhay\n"
     ]
    }
   ],
   "source": [
    "def pig(word):\n",
    "    vowel = 'aeiou'\n",
    "    if word[0].lower() in vowel:\n",
    "        pig_Latin=word+\"way\"\n",
    "    else:\n",
    "        pig_Latin=word[1:]+word[0]+\"ay\"\n",
    "    return pig_Latin   \n",
    "word=str(input('Enter the word of your choice: '))\n",
    "pig_Latin=pig(word).lower()\n",
    "print(\"Pig_Latin form of the word: \"+word + \" is: \"+pig_Latin)"
   ]
  }
 ],
 "metadata": {
  "kernelspec": {
   "display_name": "Python 3 (ipykernel)",
   "language": "python",
   "name": "python3"
  },
  "language_info": {
   "codemirror_mode": {
    "name": "ipython",
    "version": 3
   },
   "file_extension": ".py",
   "mimetype": "text/x-python",
   "name": "python",
   "nbconvert_exporter": "python",
   "pygments_lexer": "ipython3",
   "version": "3.9.12"
  }
 },
 "nbformat": 4,
 "nbformat_minor": 5
}
