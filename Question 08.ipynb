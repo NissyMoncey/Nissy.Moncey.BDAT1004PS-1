{
 "cells": [
  {
   "cell_type": "markdown",
   "id": "273cc123",
   "metadata": {},
   "source": [
    "# Question 8"
   ]
  },
  {
   "cell_type": "markdown",
   "id": "84d1d0c7",
   "metadata": {},
   "source": [
    "## Write a function curconv() that takes as input: 1. a currency represented using a string (e.g., 'JPY' for the Japanese Yen or 'EUR' for the Euro) 2. an amount and then converts and returns the amount in US dollars. "
   ]
  },
  {
   "cell_type": "code",
   "execution_count": 12,
   "id": "07f77590",
   "metadata": {},
   "outputs": [
    {
     "name": "stdout",
     "output_type": "stream",
     "text": [
      "Enter the currency you want to convert to USD: eur\n",
      "Enter the amount: 100\n",
      "The value of given amount 100.0 of eur is 1.2296544 USD\n"
     ]
    }
   ],
   "source": [
    "def fileformatting(fileName,currency,amount) :\n",
    "    # Open the file in read mode\n",
    "    infile = open(fileName,'r')\n",
    "    # Iteration through every line in the file\n",
    "    for line in infile :\n",
    "        values = line.strip().upper().split(' ') \n",
    "    # Spilt values to get the required CUR and AMT and Removes the whitespaces if any\n",
    "        conv_currency = values[0].strip()\n",
    "        conv_amount = values[1].strip()\n",
    "        currency_list.append(conv_currency)\n",
    "        amount_list.append(conv_amount)\n",
    "        \n",
    "        \n",
    "    \n",
    "# Check if the currency is in the file and convert\n",
    "def curconv(currency,amount,currency_list,amount_list):\n",
    "    if currency.upper() in currency_list :\n",
    "        indexValue=currency_list.index(currency.upper())\n",
    "        convert_amount=amount_list[indexValue]\n",
    "        amountCalculated=amount*float(convert_amount)\n",
    "        print(\"The value of given amount {0} of {1} is {2} USD\".format(amount,currency,convert_amount))\n",
    "    else :\n",
    "        print(\"Given currency not in list\")\n",
    "\n",
    "currency_list=[]\n",
    "amount_list=[]\n",
    "currency=input('Enter the currency you want to convert to USD: ')\n",
    "amount=float(input('Enter the amount: ')) \n",
    "fileformatting(\"D:\\\\myfiles\\\\currencies.txt\",currency,amount)\n",
    "curconv(currency,amount,currency_list,amount_list)\n"
   ]
  }
 ],
 "metadata": {
  "kernelspec": {
   "display_name": "Python 3 (ipykernel)",
   "language": "python",
   "name": "python3"
  },
  "language_info": {
   "codemirror_mode": {
    "name": "ipython",
    "version": 3
   },
   "file_extension": ".py",
   "mimetype": "text/x-python",
   "name": "python",
   "nbconvert_exporter": "python",
   "pygments_lexer": "ipython3",
   "version": "3.9.12"
  }
 },
 "nbformat": 4,
 "nbformat_minor": 5
}
