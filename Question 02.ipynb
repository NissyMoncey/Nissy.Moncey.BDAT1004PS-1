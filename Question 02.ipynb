{
 "cells": [
  {
   "cell_type": "markdown",
   "id": "40e4aec3",
   "metadata": {},
   "source": [
    "# Question 2\n",
    "**Write (and evaluate) C# expressions that answer these questions:**"
   ]
  },
  {
   "cell_type": "markdown",
   "id": "716173b5",
   "metadata": {},
   "source": [
    "<h3> 1. How many letters are there in 'Supercalifragilisticexpialidocious'? </h3>"
   ]
  },
  {
   "cell_type": "code",
   "execution_count": 1,
   "id": "c0e9feae",
   "metadata": {},
   "outputs": [
    {
     "name": "stdout",
     "output_type": "stream",
     "text": [
      "Enter any word: Supercalifragilisticexpialidocious\n",
      "34\n"
     ]
    }
   ],
   "source": [
    "# We can customise for any word that user inputs\n",
    "word= str(input('Enter any word: '))\n",
    "length=len(word)\n",
    "print(length)"
   ]
  },
  {
   "cell_type": "markdown",
   "id": "40d62d6c",
   "metadata": {},
   "source": [
    "<h3> 2. Does 'Supercalifragilisticexpialidocious' contain 'ice' as a substring? </h3>"
   ]
  },
  {
   "cell_type": "code",
   "execution_count": 2,
   "id": "4c316315",
   "metadata": {},
   "outputs": [
    {
     "name": "stdout",
     "output_type": "stream",
     "text": [
      "Enter any word: Supercalifragilisticexpialidocious\n",
      "Enter any word you want to check exist in the main word: ice\n",
      "Supercalifragilisticexpialidocious contains ice\n"
     ]
    }
   ],
   "source": [
    "def checkSubString(a,b):\n",
    "    if b in a:\n",
    "        print(a+ \" contains \"+b)\n",
    "    else:\n",
    "        print(a+ \" does not contain \"+b)\n",
    "        \n",
    "fullWord=str(input('Enter any word: '))\n",
    "\n",
    "subStringWord=str(input('Enter any word you want to check exist in the main word: '))\n",
    "\n",
    "checkSubString(fullWord,subStringWord)\n"
   ]
  },
  {
   "cell_type": "markdown",
   "id": "f6100c8d",
   "metadata": {},
   "source": [
    "<h3> 3. Which of the following words is the longest:\n",
    "Supercalifragilisticexpialidocious, Honorificabilitudinitatibus, or\n",
    "Bababadalgharaghtakamminarronnkonn? </h3\n",
    "   "
   ]
  },
  {
   "cell_type": "code",
   "execution_count": 3,
   "id": "a5ab0729",
   "metadata": {},
   "outputs": [
    {
     "name": "stdout",
     "output_type": "stream",
     "text": [
      "Enter any first word: Supercalifragilisticexpialidocious\n",
      "Enter any second word: Honorificabilitudinitatibus\n",
      "Enter any third word: Bababadalgharaghtakamminarronnkonn\n",
      " Longest word is Bababadalgharaghtakamminarronnkonn\n"
     ]
    }
   ],
   "source": [
    "firstWord=str(input('Enter any first word: '))\n",
    "secondWord=str(input('Enter any second word: '))\n",
    "thirdWord=str(input('Enter any third word: '))\n",
    "flength=len(firstWord)\n",
    "slength=len(secondWord)\n",
    "tlength=len(thirdWord)\n",
    "\n",
    "if flength > slength :\n",
    "    if flength > tlength :\n",
    "        print(\" Longest word is \"+firstWord)\n",
    "    else :\n",
    "         print(\" Longest word is \"+thirdWord)\n",
    "elif slength>tlength :\n",
    "     print(\" Longest word is \"+secondWord)\n",
    "else:\n",
    "    print(\" Longest word is \"+thirdWord)\n"
   ]
  },
  {
   "cell_type": "markdown",
   "id": "bbcc9bd3",
   "metadata": {},
   "source": [
    "<h3> 4. Which composer comes first in the dictionary: 'Berlioz', 'Borodin', 'Brian',\n",
    "'Bartok', 'Bellini', 'Buxtehude', 'Bernstein'. Which one comes last? </h3>"
   ]
  },
  {
   "cell_type": "code",
   "execution_count": 4,
   "id": "17826d51",
   "metadata": {},
   "outputs": [
    {
     "name": "stdout",
     "output_type": "stream",
     "text": [
      "Composer that comes first: Bartok\n",
      "Composer that comes last: Buxtehude\n"
     ]
    }
   ],
   "source": [
    "lst= ['Berlioz', 'Borodin', 'Brian', 'Bartok', 'Bellini', 'Buxtehude', 'Bernstein']\n",
    "lst.sort()\n",
    "#print(\"Rearranged list: \"+lst)\n",
    "print(\"Composer that comes first: \"+lst[0])\n",
    "print(\"Composer that comes last: \"+lst[-1])"
   ]
  }
 ],
 "metadata": {
  "kernelspec": {
   "display_name": "Python 3 (ipykernel)",
   "language": "python",
   "name": "python3"
  },
  "language_info": {
   "codemirror_mode": {
    "name": "ipython",
    "version": 3
   },
   "file_extension": ".py",
   "mimetype": "text/x-python",
   "name": "python",
   "nbconvert_exporter": "python",
   "pygments_lexer": "ipython3",
   "version": "3.9.12"
  }
 },
 "nbformat": 4,
 "nbformat_minor": 5
}
