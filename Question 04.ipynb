{
 "cells": [
  {
   "cell_type": "markdown",
   "id": "500dd7a5",
   "metadata": {},
   "source": [
    "# Question 4"
   ]
  },
  {
   "cell_type": "markdown",
   "id": "0baad507",
   "metadata": {},
   "source": [
    "## Write a program in  to separate odd and even integers in separate arrays.Go to the editor\n"
   ]
  },
  {
   "cell_type": "code",
   "execution_count": 12,
   "id": "2e52376a",
   "metadata": {},
   "outputs": [
    {
     "name": "stdout",
     "output_type": "stream",
     "text": [
      "Enter number of elements : 5\n",
      "24\n",
      "47\n",
      "42\n",
      "56\n",
      "32\n",
      "List of even elements in list : [24, 42, 56, 32]\n",
      "List of odd elements in list : [47]\n"
     ]
    }
   ],
   "source": [
    "#Function to find even or odd\n",
    "def evenOrOddCheck(list):\n",
    "    for i in list :\n",
    "        if i%2==0:\n",
    "            evenList.append(i)\n",
    "        else :\n",
    "            oddList.append(i)\n",
    "\n",
    "#create a empty list\n",
    "list=[]\n",
    "evenList=[]\n",
    "oddList=[]\n",
    "\n",
    "\n",
    "# number of elements as input\n",
    "n = int(input(\"Enter number of elements : \"))\n",
    "\n",
    "# iterating as per given length\n",
    "for i in range(0, n):\n",
    "    ele = int(input())\n",
    "    list.append(ele) # adding the element\n",
    "\n",
    "evenOrOddCheck(list)\n",
    "print(\"List of even elements in list : \"+str(evenList))\n",
    "print(\"List of odd elements in list : \"+str(oddList))\n"
   ]
  }
 ],
 "metadata": {
  "kernelspec": {
   "display_name": "Python 3 (ipykernel)",
   "language": "python",
   "name": "python3"
  },
  "language_info": {
   "codemirror_mode": {
    "name": "ipython",
    "version": 3
   },
   "file_extension": ".py",
   "mimetype": "text/x-python",
   "name": "python",
   "nbconvert_exporter": "python",
   "pygments_lexer": "ipython3",
   "version": "3.9.12"
  }
 },
 "nbformat": 4,
 "nbformat_minor": 5
}
