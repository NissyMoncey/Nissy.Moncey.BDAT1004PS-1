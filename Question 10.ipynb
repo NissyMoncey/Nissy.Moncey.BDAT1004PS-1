{
 "cells": [
  {
   "cell_type": "markdown",
   "id": "16a057ee",
   "metadata": {},
   "source": [
    "# Question 10"
   ]
  },
  {
   "cell_type": "markdown",
   "id": "672395cd",
   "metadata": {},
   "source": [
    "## Encryption is the process of hiding the meaning of a text by substituting letters in the message with other letters, according to some system. If the process is successful, no one but the intended recipient can understand the encrypted message. Cryptanalysis refers to attempts to undo the encryption, even if some details of the encryption are unknown (for example, if an encrypted message has been intercepted). The first step of cryptanalysis is often to build up a table of letter frequencies in the encrypted text. Assume that the string letters is already defined as 'abcdefghijklmnopqrstuvwxyz'. Write a function called frequencies() that takes a string as its only parameter, and returns a list of integers, showing the number of times each character appears in the text. Your function may ignore any characters that are not in letters."
   ]
  },
  {
   "cell_type": "code",
   "execution_count": 23,
   "id": "d3c78944",
   "metadata": {},
   "outputs": [
    {
     "name": "stdout",
     "output_type": "stream",
     "text": [
      "Enter the string required: yeuikwhlideilwodwwowoowwwwwwwwwzzzzzzzzzzzzzz\n",
      "[0, 0, 0, 2, 2, 0, 0, 1, 3, 0, 1, 2, 0, 0, 4, 0, 0, 0, 0, 0, 1, 0, 14, 0, 1, 14]\n"
     ]
    }
   ],
   "source": [
    "# Function to calculate the frequency of occurence\n",
    "def frequencies(inputString):\n",
    "    letters=\"abcdefghijklmnopqrstuvwxyz\"\n",
    "# Iterate through the list\n",
    "    for char in letters :\n",
    "        count = 0\n",
    "# Use the count function\n",
    "        count=inputString.count(char)\n",
    "        list.append(count)\n",
    " # create empty list       \n",
    "list=[]\n",
    "inputString=str(input('Enter the string required: '))\n",
    "frequencies(inputString)\n",
    "print(list)\n",
    "    "
   ]
  }
 ],
 "metadata": {
  "kernelspec": {
   "display_name": "Python 3 (ipykernel)",
   "language": "python",
   "name": "python3"
  },
  "language_info": {
   "codemirror_mode": {
    "name": "ipython",
    "version": 3
   },
   "file_extension": ".py",
   "mimetype": "text/x-python",
   "name": "python",
   "nbconvert_exporter": "python",
   "pygments_lexer": "ipython3",
   "version": "3.9.12"
  }
 },
 "nbformat": 4,
 "nbformat_minor": 5
}
