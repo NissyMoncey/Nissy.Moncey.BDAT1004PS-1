{
 "cells": [
  {
   "cell_type": "markdown",
   "id": "a403f81b",
   "metadata": {},
   "source": [
    "# Question 3"
   ]
  },
  {
   "cell_type": "markdown",
   "id": "86c407b0",
   "metadata": {},
   "source": [
    "## Implement function triangleArea(a,b,c) that takes as input the lengths of the 3 sides of a triangle and returns the area of the triangle. By Heron's formula, the area of a triangle with side lengths a, b, and c is sqrt(s(s - a)(s -b)(s -c)), where s = (a +b + c) /2."
   ]
  },
  {
   "cell_type": "code",
   "execution_count": null,
   "id": "a22c1391",
   "metadata": {},
   "outputs": [],
   "source": [
    "import math\n",
    "def findSemiPerimeter(a,b,c) :\n",
    "    s= (a+b+c)/2\n",
    "    return s\n",
    "def findArea(a,b,c) :\n",
    "    s=findSemiPerimeter(a,b,c)\n",
    "    area=math.sqrt(s*((s-a)*(s-b)*(s-c)))\n",
    "    return area\n",
    "\n",
    "# Take the input as length of three sides\n",
    "a=float(input('Enter length of first side: '))\n",
    "b=float(input('Enter length of second side: '))\n",
    "c=float(input('Enter length of third side: '))\n",
    "area=findArea(a,b,c)\n",
    "print('The area of the triangle is %0.2f' %area)"
   ]
  }
 ],
 "metadata": {
  "kernelspec": {
   "display_name": "Python 3 (ipykernel)",
   "language": "python",
   "name": "python3"
  },
  "language_info": {
   "codemirror_mode": {
    "name": "ipython",
    "version": 3
   },
   "file_extension": ".py",
   "mimetype": "text/x-python",
   "name": "python",
   "nbconvert_exporter": "python",
   "pygments_lexer": "ipython3",
   "version": "3.9.12"
  }
 },
 "nbformat": 4,
 "nbformat_minor": 5
}
