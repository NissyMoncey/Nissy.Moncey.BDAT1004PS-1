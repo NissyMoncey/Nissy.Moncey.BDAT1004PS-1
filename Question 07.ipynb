{
 "cells": [
  {
   "cell_type": "markdown",
   "id": "1333ff7d",
   "metadata": {},
   "source": [
    "# Question 7"
   ]
  },
  {
   "cell_type": "markdown",
   "id": "3b0a8e90",
   "metadata": {},
   "source": [
    "## File bloodtype1.txt records blood-types of patients (A, B, AB, O or OO) at a clinic. Write a function bldcount() that reads the file with name name and reports (i.e., prints) how many patients there are in each bloodtype."
   ]
  },
  {
   "cell_type": "code",
   "execution_count": 36,
   "id": "1aa5adb2",
   "metadata": {},
   "outputs": [
    {
     "name": "stdout",
     "output_type": "stream",
     "text": [
      "There are 3 patients of blood type A\n",
      "There are 3 patients of blood type B\n",
      "There are 4 patients of blood type AB\n",
      "There are 2 patients of blood type O\n",
      "There are 3 patients of blood type OO\n"
     ]
    }
   ],
   "source": [
    "# Function created to count the bloodtype sums\n",
    "def bldcount(fileName) :\n",
    "    count_a,count_b,count_ab,count_o,count_oo=0,0,0,0,0\n",
    "# Open the file in read mode\n",
    "    infile = open(fileName,'r')\n",
    "# Iteration through every line in the file\n",
    "    for blood in infile:\n",
    "# Removes the whitespaces if any\n",
    "        bloodType=blood.strip()\n",
    "        if bloodType== 'A' :\n",
    "# Counter increased each time, a value is found\n",
    "            count_a+=1\n",
    "        elif bloodType=='B' :\n",
    "            count_b+=1\n",
    "        elif bloodType=='AB':\n",
    "            count_ab+=1\n",
    "        elif bloodType=='O' :\n",
    "            count_o+=1\n",
    "        else :\n",
    "            count_oo+=1\n",
    "# Values printed as per each count\n",
    "    print(\"There are {0} patients of blood type A\".format(count_a)) \n",
    "    print(\"There are {0} patients of blood type B\".format(count_b)) \n",
    "    print(\"There are {0} patients of blood type AB\".format(count_ab)) \n",
    "    print(\"There are {0} patients of blood type O\".format(count_o)) \n",
    "    print(\"There are {0} patients of blood type OO\".format(count_oo))                 \n",
    "    infile.close()\n",
    "    \n",
    "# Funaction called with the file name\n",
    "bldcount(\"D:\\\\myfiles\\\\bloodtype1.txt\")\n"
   ]
  }
 ],
 "metadata": {
  "kernelspec": {
   "display_name": "Python 3 (ipykernel)",
   "language": "python",
   "name": "python3"
  },
  "language_info": {
   "codemirror_mode": {
    "name": "ipython",
    "version": 3
   },
   "file_extension": ".py",
   "mimetype": "text/x-python",
   "name": "python",
   "nbconvert_exporter": "python",
   "pygments_lexer": "ipython3",
   "version": "3.9.12"
  }
 },
 "nbformat": 4,
 "nbformat_minor": 5
}
