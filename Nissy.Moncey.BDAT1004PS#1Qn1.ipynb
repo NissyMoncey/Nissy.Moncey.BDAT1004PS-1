{
 "cells": [
  {
   "cell_type": "markdown",
   "id": "eb6607d9",
   "metadata": {},
   "source": [
    "# Question 1 "
   ]
  },
  {
   "cell_type": "markdown",
   "id": "f168be0a",
   "metadata": {},
   "source": [
    "## What data type is each of the following?"
   ]
  },
  {
   "cell_type": "code",
   "execution_count": 13,
   "id": "e79f34d8",
   "metadata": {},
   "outputs": [
    {
     "data": {
      "text/plain": [
       "int"
      ]
     },
     "execution_count": 13,
     "metadata": {},
     "output_type": "execute_result"
    }
   ],
   "source": [
    "type(5)"
   ]
  },
  {
   "cell_type": "code",
   "execution_count": 2,
   "id": "439e1e6c",
   "metadata": {},
   "outputs": [
    {
     "data": {
      "text/plain": [
       "float"
      ]
     },
     "execution_count": 2,
     "metadata": {},
     "output_type": "execute_result"
    }
   ],
   "source": [
    "type(5.0)"
   ]
  },
  {
   "cell_type": "code",
   "execution_count": 3,
   "id": "9f644866",
   "metadata": {},
   "outputs": [
    {
     "name": "stdout",
     "output_type": "stream",
     "text": [
      "True\n",
      "<class 'bool'>\n"
     ]
    }
   ],
   "source": [
    "print(5>1)\n",
    "\n",
    "# Boolean\n",
    "print(type(5>1))"
   ]
  },
  {
   "cell_type": "code",
   "execution_count": 4,
   "id": "bdcfcd14",
   "metadata": {},
   "outputs": [
    {
     "data": {
      "text/plain": [
       "str"
      ]
     },
     "execution_count": 4,
     "metadata": {},
     "output_type": "execute_result"
    }
   ],
   "source": [
    "#String\n",
    "type('5')"
   ]
  },
  {
   "cell_type": "code",
   "execution_count": 5,
   "id": "36804426",
   "metadata": {},
   "outputs": [
    {
     "name": "stdout",
     "output_type": "stream",
     "text": [
      "10\n",
      "<class 'int'>\n"
     ]
    }
   ],
   "source": [
    "print(5*2)\n",
    "print(type(10))"
   ]
  },
  {
   "cell_type": "code",
   "execution_count": 6,
   "id": "49485e1e",
   "metadata": {},
   "outputs": [
    {
     "name": "stdout",
     "output_type": "stream",
     "text": [
      "55\n",
      "<class 'str'>\n"
     ]
    }
   ],
   "source": [
    "print('5'*2)\n",
    "print(type('5'*2))"
   ]
  },
  {
   "cell_type": "code",
   "execution_count": 7,
   "id": "1a238141",
   "metadata": {},
   "outputs": [
    {
     "name": "stdout",
     "output_type": "stream",
     "text": [
      "52\n",
      "<class 'str'>\n"
     ]
    }
   ],
   "source": [
    "print('5'+'2')\n",
    "print(type('5'+'2'))"
   ]
  },
  {
   "cell_type": "code",
   "execution_count": 8,
   "id": "1345576c",
   "metadata": {},
   "outputs": [
    {
     "name": "stdout",
     "output_type": "stream",
     "text": [
      "2.5\n",
      "<class 'float'>\n"
     ]
    }
   ],
   "source": [
    "print(5/2)\n",
    "print(type(5/2))"
   ]
  },
  {
   "cell_type": "code",
   "execution_count": 9,
   "id": "5f5e905e",
   "metadata": {},
   "outputs": [
    {
     "name": "stdout",
     "output_type": "stream",
     "text": [
      "1\n",
      "<class 'int'>\n"
     ]
    }
   ],
   "source": [
    "print(5%2)\n",
    "print(type(5%2))"
   ]
  },
  {
   "cell_type": "code",
   "execution_count": 10,
   "id": "cbfe2042",
   "metadata": {},
   "outputs": [
    {
     "data": {
      "text/plain": [
       "set"
      ]
     },
     "execution_count": 10,
     "metadata": {},
     "output_type": "execute_result"
    }
   ],
   "source": [
    "type({5,2,1})"
   ]
  },
  {
   "cell_type": "code",
   "execution_count": 11,
   "id": "a50f0519",
   "metadata": {},
   "outputs": [
    {
     "data": {
      "text/plain": [
       "bool"
      ]
     },
     "execution_count": 11,
     "metadata": {},
     "output_type": "execute_result"
    }
   ],
   "source": [
    "type(5==3)"
   ]
  },
  {
   "cell_type": "code",
   "execution_count": 12,
   "id": "86934df3",
   "metadata": {},
   "outputs": [
    {
     "data": {
      "text/plain": [
       "float"
      ]
     },
     "execution_count": 12,
     "metadata": {},
     "output_type": "execute_result"
    }
   ],
   "source": [
    "import math\n",
    "type(math.pi)"
   ]
  }
 ],
 "metadata": {
  "kernelspec": {
   "display_name": "Python 3 (ipykernel)",
   "language": "python",
   "name": "python3"
  },
  "language_info": {
   "codemirror_mode": {
    "name": "ipython",
    "version": 3
   },
   "file_extension": ".py",
   "mimetype": "text/x-python",
   "name": "python",
   "nbconvert_exporter": "python",
   "pygments_lexer": "ipython3",
   "version": "3.9.12"
  }
 },
 "nbformat": 4,
 "nbformat_minor": 5
}
