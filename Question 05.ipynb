{
 "cells": [
  {
   "cell_type": "markdown",
   "id": "1c49dffa",
   "metadata": {},
   "source": [
    "# Question 5"
   ]
  },
  {
   "cell_type": "markdown",
   "id": "ff04be89",
   "metadata": {},
   "source": [
    "## 1. Write a function inside(x,y,x1,y1,x2,y2) that returns True or False depending on whether the point (x,y) lies in the rectangle with lower left corner (x1,y1) and upper right corner (x2,y2)."
   ]
  },
  {
   "cell_type": "code",
   "execution_count": 4,
   "id": "13dae54e",
   "metadata": {},
   "outputs": [
    {
     "name": "stdout",
     "output_type": "stream",
     "text": [
      "Enter the x-coordinate of point: -1\n",
      "Enter the y-coordinate of point: -1\n",
      "Enter the x-coordinate of lower left corner of rectangle:0\n",
      "Enter the y-coordinate of lower left corner of rectangle: 0\n",
      "Enter the x-coordinate of upper right corner of rectangle: 2\n",
      "Enter the y-coordinate of upper right  corner of rectangle: 3\n"
     ]
    },
    {
     "data": {
      "text/plain": [
       "False"
      ]
     },
     "execution_count": 4,
     "metadata": {},
     "output_type": "execute_result"
    }
   ],
   "source": [
    "def inside(x1, y1, x2,y2, x, y) :\n",
    "    if (x > x1 and x < x2 and\n",
    "        y > y1 and y < y2) :\n",
    "        return True\n",
    "    else :\n",
    "        return False\n",
    "x=int(input('Enter the x-coordinate of point: '))\n",
    "y=int(input('Enter the y-coordinate of point: '))\n",
    "x1=int(input('Enter the x-coordinate of lower left corner of rectangle:'))\n",
    "y1=int(input('Enter the y-coordinate of lower left corner of rectangle: '))\n",
    "x2=int(input('Enter the x-coordinate of upper right corner of rectangle: '))\n",
    "y2=int(input('Enter the y-coordinate of upper right  corner of rectangle: '))\n",
    "inside(x1, y1, x2,y2, x, y)"
   ]
  },
  {
   "cell_type": "code",
   "execution_count": 5,
   "id": "f4dab83f",
   "metadata": {},
   "outputs": [
    {
     "data": {
      "text/plain": [
       "False"
      ]
     },
     "execution_count": 5,
     "metadata": {},
     "output_type": "execute_result"
    }
   ],
   "source": [
    "# Use function inside() from part a. to write an expression that tests whether the point (1,1) lies in both of the following rectangles: one with lower left corner (0.3, 0.5) and upper right corner (1.1, 0.7)\n",
    "\n",
    "def inside(x1, y1, x2,y2, x, y) :\n",
    "    if (x > x1 and x < x2 and\n",
    "        y > y1 and y < y2) :\n",
    "        return True\n",
    "    else :\n",
    "        return False\n",
    "inside(1,1,0.3,0.5,1.1, 0.7)"
   ]
  },
  {
   "cell_type": "code",
   "execution_count": 6,
   "id": "fa7bab44",
   "metadata": {},
   "outputs": [
    {
     "data": {
      "text/plain": [
       "False"
      ]
     },
     "execution_count": 6,
     "metadata": {},
     "output_type": "execute_result"
    }
   ],
   "source": [
    "# Use function inside() from part a. to write an expression that tests whether the point (1,1) lies in both of the following rectangles: other with lower left corner (0.5, 0.2) and upper right corner (1.1, 2).\n",
    "\n",
    "def inside(x1, y1, x2,y2, x, y) :\n",
    "    if (x > x1 and x < x2 and\n",
    "        y > y1 and y < y2) :\n",
    "        return True\n",
    "    else :\n",
    "        return False\n",
    "inside(1,1,0.5,0.2,1.1, 2)"
   ]
  }
 ],
 "metadata": {
  "kernelspec": {
   "display_name": "Python 3 (ipykernel)",
   "language": "python",
   "name": "python3"
  },
  "language_info": {
   "codemirror_mode": {
    "name": "ipython",
    "version": 3
   },
   "file_extension": ".py",
   "mimetype": "text/x-python",
   "name": "python",
   "nbconvert_exporter": "python",
   "pygments_lexer": "ipython3",
   "version": "3.9.12"
  }
 },
 "nbformat": 4,
 "nbformat_minor": 5
}
